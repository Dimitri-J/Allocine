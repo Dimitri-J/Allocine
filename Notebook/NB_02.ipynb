{
 "cells": [
  {
   "cell_type": "code",
   "execution_count": 12,
   "metadata": {},
   "outputs": [],
   "source": [
    "import nltk\n",
    "\n",
    "import seaborn as sns\n",
    "\n",
    "from sklearn import preprocessing\n",
    "le = preprocessing.LabelEncoder()\n",
    "\n",
    "from nltk.corpus import stopwords\n",
    "\n",
    "from sklearn.metrics import accuracy_score, classification_report, confusion_matrix\n",
    "\n",
    "from nltk.stem import PorterStemmer\n",
    "ps = PorterStemmer()\n",
    "\n",
    "from nltk.stem import WordNetLemmatizer\n",
    "lm= WordNetLemmatizer()\n",
    "\n",
    "from sklearn.feature_extraction.text import TfidfVectorizer\n",
    "tfidf = TfidfVectorizer(ngram_range=(1, 3))\n",
    "\n",
    "from sklearn.linear_model import LogisticRegression\n",
    "\n",
    "import lightgbm as lgb\n",
    "classifier = lgb.LGBMClassifier()\n",
    "\n",
    "from nltk.stem.snowball import SnowballStemmer\n",
    "stemmer = SnowballStemmer(language='french')\n",
    "\n",
    "import spacy\n",
    "nlp = spacy.load(\"fr_core_news_sm\")\n",
    "\n",
    "import numpy as np\n",
    "import pandas as pd \n",
    "\n",
    "import tensorflow as tf\n",
    "\n",
    "from gensim.utils import tokenize\n",
    "\n",
    "from gensim.models import word2vec\n",
    "\n",
    "import numpy as np\n",
    "\n",
    "import re"
   ]
  },
  {
   "cell_type": "code",
   "execution_count": 13,
   "metadata": {},
   "outputs": [],
   "source": [
    "df = pd.read_csv(\"./Notes_All.csv\")"
   ]
  },
  {
   "cell_type": "code",
   "execution_count": 14,
   "metadata": {},
   "outputs": [
    {
     "data": {
      "text/html": [
       "<div>\n",
       "<style scoped>\n",
       "    .dataframe tbody tr th:only-of-type {\n",
       "        vertical-align: middle;\n",
       "    }\n",
       "\n",
       "    .dataframe tbody tr th {\n",
       "        vertical-align: top;\n",
       "    }\n",
       "\n",
       "    .dataframe thead th {\n",
       "        text-align: right;\n",
       "    }\n",
       "</style>\n",
       "<table border=\"1\" class=\"dataframe\">\n",
       "  <thead>\n",
       "    <tr style=\"text-align: right;\">\n",
       "      <th></th>\n",
       "      <th>ID</th>\n",
       "      <th>Note</th>\n",
       "    </tr>\n",
       "  </thead>\n",
       "  <tbody>\n",
       "    <tr>\n",
       "      <th>count</th>\n",
       "      <td>6368.000000</td>\n",
       "      <td>6368.000000</td>\n",
       "    </tr>\n",
       "    <tr>\n",
       "      <th>mean</th>\n",
       "      <td>2.126413</td>\n",
       "      <td>3.818467</td>\n",
       "    </tr>\n",
       "    <tr>\n",
       "      <th>std</th>\n",
       "      <td>1.108758</td>\n",
       "      <td>1.511806</td>\n",
       "    </tr>\n",
       "    <tr>\n",
       "      <th>min</th>\n",
       "      <td>1.000000</td>\n",
       "      <td>0.500000</td>\n",
       "    </tr>\n",
       "    <tr>\n",
       "      <th>25%</th>\n",
       "      <td>1.000000</td>\n",
       "      <td>3.000000</td>\n",
       "    </tr>\n",
       "    <tr>\n",
       "      <th>50%</th>\n",
       "      <td>3.000000</td>\n",
       "      <td>4.500000</td>\n",
       "    </tr>\n",
       "    <tr>\n",
       "      <th>75%</th>\n",
       "      <td>3.000000</td>\n",
       "      <td>5.000000</td>\n",
       "    </tr>\n",
       "    <tr>\n",
       "      <th>max</th>\n",
       "      <td>4.000000</td>\n",
       "      <td>5.000000</td>\n",
       "    </tr>\n",
       "  </tbody>\n",
       "</table>\n",
       "</div>"
      ],
      "text/plain": [
       "                ID         Note\n",
       "count  6368.000000  6368.000000\n",
       "mean      2.126413     3.818467\n",
       "std       1.108758     1.511806\n",
       "min       1.000000     0.500000\n",
       "25%       1.000000     3.000000\n",
       "50%       3.000000     4.500000\n",
       "75%       3.000000     5.000000\n",
       "max       4.000000     5.000000"
      ]
     },
     "execution_count": 14,
     "metadata": {},
     "output_type": "execute_result"
    }
   ],
   "source": [
    "df.describe()"
   ]
  },
  {
   "cell_type": "code",
   "execution_count": 15,
   "metadata": {},
   "outputs": [
    {
     "name": "stderr",
     "output_type": "stream",
     "text": [
      "C:\\Users\\utilisateur\\AppData\\Local\\Temp\\ipykernel_5672\\1340395864.py:1: FutureWarning: The default value of regex will change from True to False in a future version.\n",
      "  df[\"Commentaire\"] = df[\"Commentaire\"].str.replace(r\" +\", \" \")\n"
     ]
    }
   ],
   "source": [
    "df[\"Commentaire\"] = df[\"Commentaire\"].str.replace(r\" +\", \" \")"
   ]
  },
  {
   "cell_type": "code",
   "execution_count": 16,
   "metadata": {},
   "outputs": [],
   "source": [
    "df = df[df.Commentaire != \" \"]"
   ]
  },
  {
   "cell_type": "code",
   "execution_count": 17,
   "metadata": {},
   "outputs": [
    {
     "data": {
      "text/plain": [
       "ID             0\n",
       "User           0\n",
       "Note           0\n",
       "Commentaire    0\n",
       "dtype: int64"
      ]
     },
     "execution_count": 17,
     "metadata": {},
     "output_type": "execute_result"
    }
   ],
   "source": [
    "df.isnull().sum()"
   ]
  },
  {
   "cell_type": "code",
   "execution_count": 18,
   "metadata": {},
   "outputs": [
    {
     "data": {
      "text/html": [
       "<div>\n",
       "<style scoped>\n",
       "    .dataframe tbody tr th:only-of-type {\n",
       "        vertical-align: middle;\n",
       "    }\n",
       "\n",
       "    .dataframe tbody tr th {\n",
       "        vertical-align: top;\n",
       "    }\n",
       "\n",
       "    .dataframe thead th {\n",
       "        text-align: right;\n",
       "    }\n",
       "</style>\n",
       "<table border=\"1\" class=\"dataframe\">\n",
       "  <thead>\n",
       "    <tr style=\"text-align: right;\">\n",
       "      <th></th>\n",
       "      <th>ID</th>\n",
       "      <th>User</th>\n",
       "      <th>Note</th>\n",
       "      <th>Commentaire</th>\n",
       "    </tr>\n",
       "  </thead>\n",
       "  <tbody>\n",
       "    <tr>\n",
       "      <th>0</th>\n",
       "      <td>1</td>\n",
       "      <td>Citrouilleman</td>\n",
       "      <td>5.0</td>\n",
       "      <td>Wow. Excellent film d'action, bien mené de bo...</td>\n",
       "    </tr>\n",
       "    <tr>\n",
       "      <th>1</th>\n",
       "      <td>1</td>\n",
       "      <td>benoitG80</td>\n",
       "      <td>4.0</td>\n",
       "      <td>Pas trop friand de ce genre de film vu en fam...</td>\n",
       "    </tr>\n",
       "    <tr>\n",
       "      <th>2</th>\n",
       "      <td>1</td>\n",
       "      <td>reymi586</td>\n",
       "      <td>5.0</td>\n",
       "      <td>Avatar est une vraie révolution ! Le film de ...</td>\n",
       "    </tr>\n",
       "    <tr>\n",
       "      <th>3</th>\n",
       "      <td>1</td>\n",
       "      <td>L'Otaku Sensei</td>\n",
       "      <td>5.0</td>\n",
       "      <td>Avatar...comment parler de ce film tout en re...</td>\n",
       "    </tr>\n",
       "    <tr>\n",
       "      <th>4</th>\n",
       "      <td>1</td>\n",
       "      <td>tony-76</td>\n",
       "      <td>5.0</td>\n",
       "      <td>Vingt-cinq ans après Terminator, le réalisate...</td>\n",
       "    </tr>\n",
       "    <tr>\n",
       "      <th>5</th>\n",
       "      <td>1</td>\n",
       "      <td>AV ciné</td>\n",
       "      <td>5.0</td>\n",
       "      <td>Un film extraordinaire !L'histoire est vraime...</td>\n",
       "    </tr>\n",
       "    <tr>\n",
       "      <th>6</th>\n",
       "      <td>1</td>\n",
       "      <td>Chris46</td>\n",
       "      <td>4.0</td>\n",
       "      <td>'' Avatar '' très bon blockbuster signer Jame...</td>\n",
       "    </tr>\n",
       "    <tr>\n",
       "      <th>7</th>\n",
       "      <td>1</td>\n",
       "      <td>CréatureOnirique</td>\n",
       "      <td>4.5</td>\n",
       "      <td>Avatar était annoncé comme le chef d'oeuvre u...</td>\n",
       "    </tr>\n",
       "    <tr>\n",
       "      <th>8</th>\n",
       "      <td>1</td>\n",
       "      <td>James Betaman</td>\n",
       "      <td>5.0</td>\n",
       "      <td>Qu dire d'Avatar, primo, il s'agit d'une des ...</td>\n",
       "    </tr>\n",
       "    <tr>\n",
       "      <th>9</th>\n",
       "      <td>1</td>\n",
       "      <td>sparowtony</td>\n",
       "      <td>5.0</td>\n",
       "      <td>Avatar est avant tout une claque visuelle,les...</td>\n",
       "    </tr>\n",
       "  </tbody>\n",
       "</table>\n",
       "</div>"
      ],
      "text/plain": [
       "   ID              User  Note  \\\n",
       "0   1     Citrouilleman   5.0   \n",
       "1   1         benoitG80   4.0   \n",
       "2   1          reymi586   5.0   \n",
       "3   1   L'Otaku Sensei    5.0   \n",
       "4   1           tony-76   5.0   \n",
       "5   1           AV ciné   5.0   \n",
       "6   1          Chris46    4.0   \n",
       "7   1  CréatureOnirique   4.5   \n",
       "8   1     James Betaman   5.0   \n",
       "9   1        sparowtony   5.0   \n",
       "\n",
       "                                         Commentaire  \n",
       "0   Wow. Excellent film d'action, bien mené de bo...  \n",
       "1   Pas trop friand de ce genre de film vu en fam...  \n",
       "2   Avatar est une vraie révolution ! Le film de ...  \n",
       "3   Avatar...comment parler de ce film tout en re...  \n",
       "4   Vingt-cinq ans après Terminator, le réalisate...  \n",
       "5   Un film extraordinaire !L'histoire est vraime...  \n",
       "6   '' Avatar '' très bon blockbuster signer Jame...  \n",
       "7   Avatar était annoncé comme le chef d'oeuvre u...  \n",
       "8   Qu dire d'Avatar, primo, il s'agit d'une des ...  \n",
       "9   Avatar est avant tout une claque visuelle,les...  "
      ]
     },
     "execution_count": 18,
     "metadata": {},
     "output_type": "execute_result"
    }
   ],
   "source": [
    "df.head(10)"
   ]
  },
  {
   "cell_type": "code",
   "execution_count": 19,
   "metadata": {},
   "outputs": [
    {
     "data": {
      "text/plain": [
       "0       Wow. Excellent film d'action, bien mené de bou...\n",
       "1       Pas trop friand de ce genre de film vu en fami...\n",
       "2       Avatar est une vraie révolution ! Le film de J...\n",
       "3       Avatar...comment parler de ce film tout en res...\n",
       "4       Vingt-cinq ans après Terminator, le réalisateu...\n",
       "                              ...                        \n",
       "6363    bon début , en attendant la suite avec impatie...\n",
       "6364    Horrible ya aucune cohérence avec l’histoire d...\n",
       "6365    Dans le fond il était pas si mal le film Drago...\n",
       "6366    Je lance un appel à tous les fans de Dragon Ba...\n",
       "6367    Étant un grand fan du manga d‘Akira Toriyama(p...\n",
       "Name: Commentaire, Length: 6366, dtype: object"
      ]
     },
     "execution_count": 19,
     "metadata": {},
     "output_type": "execute_result"
    }
   ],
   "source": [
    "df['Commentaire'].str.strip()"
   ]
  },
  {
   "cell_type": "code",
   "execution_count": 20,
   "metadata": {},
   "outputs": [],
   "source": [
    "df.loc[(df.Note <= 3,'Note' )]=0\n",
    "df.loc[(df.Note >= 3,'Note' )]=1"
   ]
  },
  {
   "cell_type": "code",
   "execution_count": 21,
   "metadata": {},
   "outputs": [],
   "source": [
    "df['Note'] = le.fit_transform(df['Note'])"
   ]
  },
  {
   "cell_type": "code",
   "execution_count": 22,
   "metadata": {},
   "outputs": [],
   "source": [
    "note_oui = df[df.Note & df.Note == 1]"
   ]
  },
  {
   "cell_type": "code",
   "execution_count": 23,
   "metadata": {},
   "outputs": [],
   "source": [
    "note_non = df[df.Note & df.Note == 0]"
   ]
  },
  {
   "cell_type": "code",
   "execution_count": 24,
   "metadata": {},
   "outputs": [
    {
     "data": {
      "text/html": [
       "<div>\n",
       "<style scoped>\n",
       "    .dataframe tbody tr th:only-of-type {\n",
       "        vertical-align: middle;\n",
       "    }\n",
       "\n",
       "    .dataframe tbody tr th {\n",
       "        vertical-align: top;\n",
       "    }\n",
       "\n",
       "    .dataframe thead th {\n",
       "        text-align: right;\n",
       "    }\n",
       "</style>\n",
       "<table border=\"1\" class=\"dataframe\">\n",
       "  <thead>\n",
       "    <tr style=\"text-align: right;\">\n",
       "      <th></th>\n",
       "      <th>ID</th>\n",
       "      <th>User</th>\n",
       "      <th>Note</th>\n",
       "      <th>Commentaire</th>\n",
       "    </tr>\n",
       "  </thead>\n",
       "  <tbody>\n",
       "    <tr>\n",
       "      <th>0</th>\n",
       "      <td>1</td>\n",
       "      <td>Citrouilleman</td>\n",
       "      <td>1</td>\n",
       "      <td>Wow. Excellent film d'action, bien mené de bo...</td>\n",
       "    </tr>\n",
       "    <tr>\n",
       "      <th>1</th>\n",
       "      <td>1</td>\n",
       "      <td>benoitG80</td>\n",
       "      <td>1</td>\n",
       "      <td>Pas trop friand de ce genre de film vu en fam...</td>\n",
       "    </tr>\n",
       "    <tr>\n",
       "      <th>2</th>\n",
       "      <td>1</td>\n",
       "      <td>reymi586</td>\n",
       "      <td>1</td>\n",
       "      <td>Avatar est une vraie révolution ! Le film de ...</td>\n",
       "    </tr>\n",
       "    <tr>\n",
       "      <th>3</th>\n",
       "      <td>1</td>\n",
       "      <td>L'Otaku Sensei</td>\n",
       "      <td>1</td>\n",
       "      <td>Avatar...comment parler de ce film tout en re...</td>\n",
       "    </tr>\n",
       "    <tr>\n",
       "      <th>4</th>\n",
       "      <td>1</td>\n",
       "      <td>tony-76</td>\n",
       "      <td>1</td>\n",
       "      <td>Vingt-cinq ans après Terminator, le réalisate...</td>\n",
       "    </tr>\n",
       "    <tr>\n",
       "      <th>...</th>\n",
       "      <td>...</td>\n",
       "      <td>...</td>\n",
       "      <td>...</td>\n",
       "      <td>...</td>\n",
       "    </tr>\n",
       "    <tr>\n",
       "      <th>6358</th>\n",
       "      <td>4</td>\n",
       "      <td>Louis-Maxime Girard</td>\n",
       "      <td>1</td>\n",
       "      <td>Un des meilleur films de la décennie avec l'a...</td>\n",
       "    </tr>\n",
       "    <tr>\n",
       "      <th>6359</th>\n",
       "      <td>4</td>\n",
       "      <td>Simon-Olivier Girard</td>\n",
       "      <td>1</td>\n",
       "      <td>Excellent film! Wow! Parfaitement fidèle à l’...</td>\n",
       "    </tr>\n",
       "    <tr>\n",
       "      <th>6360</th>\n",
       "      <td>4</td>\n",
       "      <td>LOCK</td>\n",
       "      <td>1</td>\n",
       "      <td>Officiellement c'est l'un des meilleurs film ...</td>\n",
       "    </tr>\n",
       "    <tr>\n",
       "      <th>6362</th>\n",
       "      <td>4</td>\n",
       "      <td>alainhoang07</td>\n",
       "      <td>1</td>\n",
       "      <td>j'ai bien aimé ce film pour une premeire adap...</td>\n",
       "    </tr>\n",
       "    <tr>\n",
       "      <th>6363</th>\n",
       "      <td>4</td>\n",
       "      <td>thibautdebled</td>\n",
       "      <td>1</td>\n",
       "      <td>bon début , en attendant la suite avec impati...</td>\n",
       "    </tr>\n",
       "  </tbody>\n",
       "</table>\n",
       "<p>4616 rows × 4 columns</p>\n",
       "</div>"
      ],
      "text/plain": [
       "      ID                  User  Note  \\\n",
       "0      1         Citrouilleman     1   \n",
       "1      1             benoitG80     1   \n",
       "2      1              reymi586     1   \n",
       "3      1       L'Otaku Sensei      1   \n",
       "4      1               tony-76     1   \n",
       "...   ..                   ...   ...   \n",
       "6358   4   Louis-Maxime Girard     1   \n",
       "6359   4  Simon-Olivier Girard     1   \n",
       "6360   4                  LOCK     1   \n",
       "6362   4          alainhoang07     1   \n",
       "6363   4         thibautdebled     1   \n",
       "\n",
       "                                            Commentaire  \n",
       "0      Wow. Excellent film d'action, bien mené de bo...  \n",
       "1      Pas trop friand de ce genre de film vu en fam...  \n",
       "2      Avatar est une vraie révolution ! Le film de ...  \n",
       "3      Avatar...comment parler de ce film tout en re...  \n",
       "4      Vingt-cinq ans après Terminator, le réalisate...  \n",
       "...                                                 ...  \n",
       "6358   Un des meilleur films de la décennie avec l'a...  \n",
       "6359   Excellent film! Wow! Parfaitement fidèle à l’...  \n",
       "6360   Officiellement c'est l'un des meilleurs film ...  \n",
       "6362   j'ai bien aimé ce film pour une premeire adap...  \n",
       "6363   bon début , en attendant la suite avec impati...  \n",
       "\n",
       "[4616 rows x 4 columns]"
      ]
     },
     "execution_count": 24,
     "metadata": {},
     "output_type": "execute_result"
    }
   ],
   "source": [
    "note_oui"
   ]
  },
  {
   "cell_type": "code",
   "execution_count": 25,
   "metadata": {},
   "outputs": [
    {
     "data": {
      "text/html": [
       "<div>\n",
       "<style scoped>\n",
       "    .dataframe tbody tr th:only-of-type {\n",
       "        vertical-align: middle;\n",
       "    }\n",
       "\n",
       "    .dataframe tbody tr th {\n",
       "        vertical-align: top;\n",
       "    }\n",
       "\n",
       "    .dataframe thead th {\n",
       "        text-align: right;\n",
       "    }\n",
       "</style>\n",
       "<table border=\"1\" class=\"dataframe\">\n",
       "  <thead>\n",
       "    <tr style=\"text-align: right;\">\n",
       "      <th></th>\n",
       "      <th>ID</th>\n",
       "      <th>User</th>\n",
       "      <th>Note</th>\n",
       "      <th>Commentaire</th>\n",
       "    </tr>\n",
       "  </thead>\n",
       "  <tbody>\n",
       "    <tr>\n",
       "      <th>11</th>\n",
       "      <td>1</td>\n",
       "      <td>MaCultureGeek</td>\n",
       "      <td>0</td>\n",
       "      <td>Certes, ce film est graphiquement magnifique,...</td>\n",
       "    </tr>\n",
       "    <tr>\n",
       "      <th>18</th>\n",
       "      <td>1</td>\n",
       "      <td>LeddyZ</td>\n",
       "      <td>0</td>\n",
       "      <td>Avatar, où l'un des films les plus surcotés d...</td>\n",
       "    </tr>\n",
       "    <tr>\n",
       "      <th>19</th>\n",
       "      <td>1</td>\n",
       "      <td>lhomme-grenouille</td>\n",
       "      <td>0</td>\n",
       "      <td>En 2009, c’était peu dire qu’ « Avatar » étai...</td>\n",
       "    </tr>\n",
       "    <tr>\n",
       "      <th>23</th>\n",
       "      <td>1</td>\n",
       "      <td>gimliamideselfes</td>\n",
       "      <td>0</td>\n",
       "      <td>Film impressionant visuellement mais seulemen...</td>\n",
       "    </tr>\n",
       "    <tr>\n",
       "      <th>24</th>\n",
       "      <td>1</td>\n",
       "      <td>septembergirl</td>\n",
       "      <td>0</td>\n",
       "      <td>Un film de science-fiction qui nous propose u...</td>\n",
       "    </tr>\n",
       "    <tr>\n",
       "      <th>...</th>\n",
       "      <td>...</td>\n",
       "      <td>...</td>\n",
       "      <td>...</td>\n",
       "      <td>...</td>\n",
       "    </tr>\n",
       "    <tr>\n",
       "      <th>6361</th>\n",
       "      <td>4</td>\n",
       "      <td>lesupersaiyen</td>\n",
       "      <td>0</td>\n",
       "      <td>Ce film ne respect rien... très décevant.Par ...</td>\n",
       "    </tr>\n",
       "    <tr>\n",
       "      <th>6364</th>\n",
       "      <td>4</td>\n",
       "      <td>Alexaandre13012</td>\n",
       "      <td>0</td>\n",
       "      <td>Horrible ya aucune cohérence avec l’histoire ...</td>\n",
       "    </tr>\n",
       "    <tr>\n",
       "      <th>6365</th>\n",
       "      <td>4</td>\n",
       "      <td>tedix</td>\n",
       "      <td>0</td>\n",
       "      <td>Dans le fond il était pas si mal le film Drag...</td>\n",
       "    </tr>\n",
       "    <tr>\n",
       "      <th>6366</th>\n",
       "      <td>4</td>\n",
       "      <td>DarkTarask</td>\n",
       "      <td>0</td>\n",
       "      <td>Je lance un appel à tous les fans de Dragon B...</td>\n",
       "    </tr>\n",
       "    <tr>\n",
       "      <th>6367</th>\n",
       "      <td>4</td>\n",
       "      <td>cana27</td>\n",
       "      <td>0</td>\n",
       "      <td>Étant un grand fan du manga d‘Akira Toriyama(...</td>\n",
       "    </tr>\n",
       "  </tbody>\n",
       "</table>\n",
       "<p>1750 rows × 4 columns</p>\n",
       "</div>"
      ],
      "text/plain": [
       "      ID               User  Note  \\\n",
       "11     1      MaCultureGeek     0   \n",
       "18     1             LeddyZ     0   \n",
       "19     1  lhomme-grenouille     0   \n",
       "23     1   gimliamideselfes     0   \n",
       "24     1      septembergirl     0   \n",
       "...   ..                ...   ...   \n",
       "6361   4      lesupersaiyen     0   \n",
       "6364   4    Alexaandre13012     0   \n",
       "6365   4              tedix     0   \n",
       "6366   4         DarkTarask     0   \n",
       "6367   4             cana27     0   \n",
       "\n",
       "                                            Commentaire  \n",
       "11     Certes, ce film est graphiquement magnifique,...  \n",
       "18     Avatar, où l'un des films les plus surcotés d...  \n",
       "19     En 2009, c’était peu dire qu’ « Avatar » étai...  \n",
       "23     Film impressionant visuellement mais seulemen...  \n",
       "24     Un film de science-fiction qui nous propose u...  \n",
       "...                                                 ...  \n",
       "6361   Ce film ne respect rien... très décevant.Par ...  \n",
       "6364   Horrible ya aucune cohérence avec l’histoire ...  \n",
       "6365   Dans le fond il était pas si mal le film Drag...  \n",
       "6366   Je lance un appel à tous les fans de Dragon B...  \n",
       "6367   Étant un grand fan du manga d‘Akira Toriyama(...  \n",
       "\n",
       "[1750 rows x 4 columns]"
      ]
     },
     "execution_count": 25,
     "metadata": {},
     "output_type": "execute_result"
    }
   ],
   "source": [
    "note_non"
   ]
  },
  {
   "cell_type": "code",
   "execution_count": 26,
   "metadata": {},
   "outputs": [
    {
     "data": {
      "text/html": [
       "<div>\n",
       "<style scoped>\n",
       "    .dataframe tbody tr th:only-of-type {\n",
       "        vertical-align: middle;\n",
       "    }\n",
       "\n",
       "    .dataframe tbody tr th {\n",
       "        vertical-align: top;\n",
       "    }\n",
       "\n",
       "    .dataframe thead th {\n",
       "        text-align: right;\n",
       "    }\n",
       "</style>\n",
       "<table border=\"1\" class=\"dataframe\">\n",
       "  <thead>\n",
       "    <tr style=\"text-align: right;\">\n",
       "      <th></th>\n",
       "      <th>ID</th>\n",
       "      <th>User</th>\n",
       "      <th>Note</th>\n",
       "      <th>Commentaire</th>\n",
       "    </tr>\n",
       "  </thead>\n",
       "  <tbody>\n",
       "    <tr>\n",
       "      <th>2905</th>\n",
       "      <td>1</td>\n",
       "      <td>anakine n</td>\n",
       "      <td>1</td>\n",
       "      <td>Tout simplement magnifique. Un rêve eveille.</td>\n",
       "    </tr>\n",
       "    <tr>\n",
       "      <th>2426</th>\n",
       "      <td>1</td>\n",
       "      <td>kevinthomas</td>\n",
       "      <td>1</td>\n",
       "      <td>Je suis allé voir ce film deux fois tellement...</td>\n",
       "    </tr>\n",
       "    <tr>\n",
       "      <th>3246</th>\n",
       "      <td>3</td>\n",
       "      <td>NiERONiMO</td>\n",
       "      <td>1</td>\n",
       "      <td>Talentueux comme pas deux, Christopher Nolan ...</td>\n",
       "    </tr>\n",
       "    <tr>\n",
       "      <th>28</th>\n",
       "      <td>1</td>\n",
       "      <td>Walter Mouse</td>\n",
       "      <td>1</td>\n",
       "      <td>Avatar est sans aucun doute le meilleur film ...</td>\n",
       "    </tr>\n",
       "    <tr>\n",
       "      <th>2418</th>\n",
       "      <td>1</td>\n",
       "      <td>hp0408</td>\n",
       "      <td>1</td>\n",
       "      <td>Super film, du james cammeron!!!</td>\n",
       "    </tr>\n",
       "    <tr>\n",
       "      <th>...</th>\n",
       "      <td>...</td>\n",
       "      <td>...</td>\n",
       "      <td>...</td>\n",
       "      <td>...</td>\n",
       "    </tr>\n",
       "    <tr>\n",
       "      <th>1620</th>\n",
       "      <td>1</td>\n",
       "      <td>JustinSvn</td>\n",
       "      <td>1</td>\n",
       "      <td>Esthétiquement et visuellement, le film est p...</td>\n",
       "    </tr>\n",
       "    <tr>\n",
       "      <th>306</th>\n",
       "      <td>1</td>\n",
       "      <td>camray54</td>\n",
       "      <td>1</td>\n",
       "      <td>Le film le plus impressionnant que j'ai pu vo...</td>\n",
       "    </tr>\n",
       "    <tr>\n",
       "      <th>5244</th>\n",
       "      <td>3</td>\n",
       "      <td>Ichi-no-Ichi</td>\n",
       "      <td>1</td>\n",
       "      <td>Tout d'abord, la moitié des gens qui ont mis ...</td>\n",
       "    </tr>\n",
       "    <tr>\n",
       "      <th>737</th>\n",
       "      <td>1</td>\n",
       "      <td>Silvere B.</td>\n",
       "      <td>1</td>\n",
       "      <td>C'est Avatar, premier film en 3D que j'avais ...</td>\n",
       "    </tr>\n",
       "    <tr>\n",
       "      <th>3915</th>\n",
       "      <td>3</td>\n",
       "      <td>Julien D</td>\n",
       "      <td>1</td>\n",
       "      <td>Encore un coup de maître de Christopher Nolan...</td>\n",
       "    </tr>\n",
       "  </tbody>\n",
       "</table>\n",
       "<p>1750 rows × 4 columns</p>\n",
       "</div>"
      ],
      "text/plain": [
       "      ID          User  Note  \\\n",
       "2905   1     anakine n     1   \n",
       "2426   1   kevinthomas     1   \n",
       "3246   3     NiERONiMO     1   \n",
       "28     1  Walter Mouse     1   \n",
       "2418   1        hp0408     1   \n",
       "...   ..           ...   ...   \n",
       "1620   1     JustinSvn     1   \n",
       "306    1      camray54     1   \n",
       "5244   3  Ichi-no-Ichi     1   \n",
       "737    1    Silvere B.     1   \n",
       "3915   3      Julien D     1   \n",
       "\n",
       "                                            Commentaire  \n",
       "2905      Tout simplement magnifique. Un rêve eveille.   \n",
       "2426   Je suis allé voir ce film deux fois tellement...  \n",
       "3246   Talentueux comme pas deux, Christopher Nolan ...  \n",
       "28     Avatar est sans aucun doute le meilleur film ...  \n",
       "2418                  Super film, du james cammeron!!!   \n",
       "...                                                 ...  \n",
       "1620   Esthétiquement et visuellement, le film est p...  \n",
       "306    Le film le plus impressionnant que j'ai pu vo...  \n",
       "5244   Tout d'abord, la moitié des gens qui ont mis ...  \n",
       "737    C'est Avatar, premier film en 3D que j'avais ...  \n",
       "3915   Encore un coup de maître de Christopher Nolan...  \n",
       "\n",
       "[1750 rows x 4 columns]"
      ]
     },
     "execution_count": 26,
     "metadata": {},
     "output_type": "execute_result"
    }
   ],
   "source": [
    "note_oui.sample(n=len(note_non),random_state=42)"
   ]
  },
  {
   "cell_type": "code",
   "execution_count": 27,
   "metadata": {},
   "outputs": [],
   "source": [
    "df_equal = pd.concat([note_non, note_oui.sample(n=len(note_non),random_state=42)],ignore_index=True)"
   ]
  },
  {
   "cell_type": "code",
   "execution_count": 28,
   "metadata": {},
   "outputs": [
    {
     "data": {
      "text/html": [
       "<div>\n",
       "<style scoped>\n",
       "    .dataframe tbody tr th:only-of-type {\n",
       "        vertical-align: middle;\n",
       "    }\n",
       "\n",
       "    .dataframe tbody tr th {\n",
       "        vertical-align: top;\n",
       "    }\n",
       "\n",
       "    .dataframe thead th {\n",
       "        text-align: right;\n",
       "    }\n",
       "</style>\n",
       "<table border=\"1\" class=\"dataframe\">\n",
       "  <thead>\n",
       "    <tr style=\"text-align: right;\">\n",
       "      <th></th>\n",
       "      <th>ID</th>\n",
       "      <th>User</th>\n",
       "      <th>Note</th>\n",
       "      <th>Commentaire</th>\n",
       "    </tr>\n",
       "  </thead>\n",
       "  <tbody>\n",
       "    <tr>\n",
       "      <th>0</th>\n",
       "      <td>1</td>\n",
       "      <td>MaCultureGeek</td>\n",
       "      <td>0</td>\n",
       "      <td>Certes, ce film est graphiquement magnifique,...</td>\n",
       "    </tr>\n",
       "    <tr>\n",
       "      <th>1</th>\n",
       "      <td>1</td>\n",
       "      <td>LeddyZ</td>\n",
       "      <td>0</td>\n",
       "      <td>Avatar, où l'un des films les plus surcotés d...</td>\n",
       "    </tr>\n",
       "    <tr>\n",
       "      <th>2</th>\n",
       "      <td>1</td>\n",
       "      <td>lhomme-grenouille</td>\n",
       "      <td>0</td>\n",
       "      <td>En 2009, c’était peu dire qu’ « Avatar » étai...</td>\n",
       "    </tr>\n",
       "    <tr>\n",
       "      <th>3</th>\n",
       "      <td>1</td>\n",
       "      <td>gimliamideselfes</td>\n",
       "      <td>0</td>\n",
       "      <td>Film impressionant visuellement mais seulemen...</td>\n",
       "    </tr>\n",
       "    <tr>\n",
       "      <th>4</th>\n",
       "      <td>1</td>\n",
       "      <td>septembergirl</td>\n",
       "      <td>0</td>\n",
       "      <td>Un film de science-fiction qui nous propose u...</td>\n",
       "    </tr>\n",
       "    <tr>\n",
       "      <th>...</th>\n",
       "      <td>...</td>\n",
       "      <td>...</td>\n",
       "      <td>...</td>\n",
       "      <td>...</td>\n",
       "    </tr>\n",
       "    <tr>\n",
       "      <th>3495</th>\n",
       "      <td>1</td>\n",
       "      <td>JustinSvn</td>\n",
       "      <td>1</td>\n",
       "      <td>Esthétiquement et visuellement, le film est p...</td>\n",
       "    </tr>\n",
       "    <tr>\n",
       "      <th>3496</th>\n",
       "      <td>1</td>\n",
       "      <td>camray54</td>\n",
       "      <td>1</td>\n",
       "      <td>Le film le plus impressionnant que j'ai pu vo...</td>\n",
       "    </tr>\n",
       "    <tr>\n",
       "      <th>3497</th>\n",
       "      <td>3</td>\n",
       "      <td>Ichi-no-Ichi</td>\n",
       "      <td>1</td>\n",
       "      <td>Tout d'abord, la moitié des gens qui ont mis ...</td>\n",
       "    </tr>\n",
       "    <tr>\n",
       "      <th>3498</th>\n",
       "      <td>1</td>\n",
       "      <td>Silvere B.</td>\n",
       "      <td>1</td>\n",
       "      <td>C'est Avatar, premier film en 3D que j'avais ...</td>\n",
       "    </tr>\n",
       "    <tr>\n",
       "      <th>3499</th>\n",
       "      <td>3</td>\n",
       "      <td>Julien D</td>\n",
       "      <td>1</td>\n",
       "      <td>Encore un coup de maître de Christopher Nolan...</td>\n",
       "    </tr>\n",
       "  </tbody>\n",
       "</table>\n",
       "<p>3500 rows × 4 columns</p>\n",
       "</div>"
      ],
      "text/plain": [
       "      ID               User  Note  \\\n",
       "0      1      MaCultureGeek     0   \n",
       "1      1             LeddyZ     0   \n",
       "2      1  lhomme-grenouille     0   \n",
       "3      1   gimliamideselfes     0   \n",
       "4      1      septembergirl     0   \n",
       "...   ..                ...   ...   \n",
       "3495   1          JustinSvn     1   \n",
       "3496   1           camray54     1   \n",
       "3497   3       Ichi-no-Ichi     1   \n",
       "3498   1         Silvere B.     1   \n",
       "3499   3           Julien D     1   \n",
       "\n",
       "                                            Commentaire  \n",
       "0      Certes, ce film est graphiquement magnifique,...  \n",
       "1      Avatar, où l'un des films les plus surcotés d...  \n",
       "2      En 2009, c’était peu dire qu’ « Avatar » étai...  \n",
       "3      Film impressionant visuellement mais seulemen...  \n",
       "4      Un film de science-fiction qui nous propose u...  \n",
       "...                                                 ...  \n",
       "3495   Esthétiquement et visuellement, le film est p...  \n",
       "3496   Le film le plus impressionnant que j'ai pu vo...  \n",
       "3497   Tout d'abord, la moitié des gens qui ont mis ...  \n",
       "3498   C'est Avatar, premier film en 3D que j'avais ...  \n",
       "3499   Encore un coup de maître de Christopher Nolan...  \n",
       "\n",
       "[3500 rows x 4 columns]"
      ]
     },
     "execution_count": 28,
     "metadata": {},
     "output_type": "execute_result"
    }
   ],
   "source": [
    "df_equal.reindex()"
   ]
  },
  {
   "cell_type": "code",
   "execution_count": 29,
   "metadata": {},
   "outputs": [
    {
     "data": {
      "text/html": [
       "<div>\n",
       "<style scoped>\n",
       "    .dataframe tbody tr th:only-of-type {\n",
       "        vertical-align: middle;\n",
       "    }\n",
       "\n",
       "    .dataframe tbody tr th {\n",
       "        vertical-align: top;\n",
       "    }\n",
       "\n",
       "    .dataframe thead th {\n",
       "        text-align: right;\n",
       "    }\n",
       "</style>\n",
       "<table border=\"1\" class=\"dataframe\">\n",
       "  <thead>\n",
       "    <tr style=\"text-align: right;\">\n",
       "      <th></th>\n",
       "      <th>ID</th>\n",
       "      <th>User</th>\n",
       "      <th>Note</th>\n",
       "      <th>Commentaire</th>\n",
       "    </tr>\n",
       "  </thead>\n",
       "  <tbody>\n",
       "    <tr>\n",
       "      <th>0</th>\n",
       "      <td>1</td>\n",
       "      <td>MaCultureGeek</td>\n",
       "      <td>0</td>\n",
       "      <td>Certes, ce film est graphiquement magnifique,...</td>\n",
       "    </tr>\n",
       "    <tr>\n",
       "      <th>1</th>\n",
       "      <td>1</td>\n",
       "      <td>LeddyZ</td>\n",
       "      <td>0</td>\n",
       "      <td>Avatar, où l'un des films les plus surcotés d...</td>\n",
       "    </tr>\n",
       "    <tr>\n",
       "      <th>2</th>\n",
       "      <td>1</td>\n",
       "      <td>lhomme-grenouille</td>\n",
       "      <td>0</td>\n",
       "      <td>En 2009, c’était peu dire qu’ « Avatar » étai...</td>\n",
       "    </tr>\n",
       "    <tr>\n",
       "      <th>3</th>\n",
       "      <td>1</td>\n",
       "      <td>gimliamideselfes</td>\n",
       "      <td>0</td>\n",
       "      <td>Film impressionant visuellement mais seulemen...</td>\n",
       "    </tr>\n",
       "    <tr>\n",
       "      <th>4</th>\n",
       "      <td>1</td>\n",
       "      <td>septembergirl</td>\n",
       "      <td>0</td>\n",
       "      <td>Un film de science-fiction qui nous propose u...</td>\n",
       "    </tr>\n",
       "    <tr>\n",
       "      <th>...</th>\n",
       "      <td>...</td>\n",
       "      <td>...</td>\n",
       "      <td>...</td>\n",
       "      <td>...</td>\n",
       "    </tr>\n",
       "    <tr>\n",
       "      <th>3495</th>\n",
       "      <td>1</td>\n",
       "      <td>JustinSvn</td>\n",
       "      <td>1</td>\n",
       "      <td>Esthétiquement et visuellement, le film est p...</td>\n",
       "    </tr>\n",
       "    <tr>\n",
       "      <th>3496</th>\n",
       "      <td>1</td>\n",
       "      <td>camray54</td>\n",
       "      <td>1</td>\n",
       "      <td>Le film le plus impressionnant que j'ai pu vo...</td>\n",
       "    </tr>\n",
       "    <tr>\n",
       "      <th>3497</th>\n",
       "      <td>3</td>\n",
       "      <td>Ichi-no-Ichi</td>\n",
       "      <td>1</td>\n",
       "      <td>Tout d'abord, la moitié des gens qui ont mis ...</td>\n",
       "    </tr>\n",
       "    <tr>\n",
       "      <th>3498</th>\n",
       "      <td>1</td>\n",
       "      <td>Silvere B.</td>\n",
       "      <td>1</td>\n",
       "      <td>C'est Avatar, premier film en 3D que j'avais ...</td>\n",
       "    </tr>\n",
       "    <tr>\n",
       "      <th>3499</th>\n",
       "      <td>3</td>\n",
       "      <td>Julien D</td>\n",
       "      <td>1</td>\n",
       "      <td>Encore un coup de maître de Christopher Nolan...</td>\n",
       "    </tr>\n",
       "  </tbody>\n",
       "</table>\n",
       "<p>3500 rows × 4 columns</p>\n",
       "</div>"
      ],
      "text/plain": [
       "      ID               User  Note  \\\n",
       "0      1      MaCultureGeek     0   \n",
       "1      1             LeddyZ     0   \n",
       "2      1  lhomme-grenouille     0   \n",
       "3      1   gimliamideselfes     0   \n",
       "4      1      septembergirl     0   \n",
       "...   ..                ...   ...   \n",
       "3495   1          JustinSvn     1   \n",
       "3496   1           camray54     1   \n",
       "3497   3       Ichi-no-Ichi     1   \n",
       "3498   1         Silvere B.     1   \n",
       "3499   3           Julien D     1   \n",
       "\n",
       "                                            Commentaire  \n",
       "0      Certes, ce film est graphiquement magnifique,...  \n",
       "1      Avatar, où l'un des films les plus surcotés d...  \n",
       "2      En 2009, c’était peu dire qu’ « Avatar » étai...  \n",
       "3      Film impressionant visuellement mais seulemen...  \n",
       "4      Un film de science-fiction qui nous propose u...  \n",
       "...                                                 ...  \n",
       "3495   Esthétiquement et visuellement, le film est p...  \n",
       "3496   Le film le plus impressionnant que j'ai pu vo...  \n",
       "3497   Tout d'abord, la moitié des gens qui ont mis ...  \n",
       "3498   C'est Avatar, premier film en 3D que j'avais ...  \n",
       "3499   Encore un coup de maître de Christopher Nolan...  \n",
       "\n",
       "[3500 rows x 4 columns]"
      ]
     },
     "execution_count": 29,
     "metadata": {},
     "output_type": "execute_result"
    }
   ],
   "source": [
    "df_equal"
   ]
  },
  {
   "cell_type": "code",
   "execution_count": 30,
   "metadata": {},
   "outputs": [],
   "source": [
    "corpus = []\n",
    "for i in range(0, len(df_equal)):\n",
    "    words = nltk.word_tokenize(str(df_equal['Commentaire'][i]))\n",
    "    words = [word for word in words if word.isalnum()]\n",
    "    WordSet = []\n",
    "    for word in words:\n",
    "        if word not in set(stopwords.words(\"french\")):\n",
    "            WordSet.append(word)\n",
    "    WordSetStem = []\n",
    "    for word in WordSet:\n",
    "        WordSetStem.append(stemmer.stem(word))\n",
    "    WordSetLem = []\n",
    "    for word in WordSetStem:\n",
    "        words = WordSetLem.append(lm.lemmatize(word))\n",
    "    message = ' '.join(WordSetLem)\n",
    "    corpus.append(message)"
   ]
  },
  {
   "cell_type": "code",
   "execution_count": 31,
   "metadata": {},
   "outputs": [],
   "source": [
    "X = pd.DataFrame(corpus,columns= [\"Commentaire\"])\n",
    "\n",
    "y = df_equal[\"Note\"]"
   ]
  },
  {
   "cell_type": "code",
   "execution_count": 32,
   "metadata": {},
   "outputs": [
    {
     "data": {
      "text/html": [
       "<div>\n",
       "<style scoped>\n",
       "    .dataframe tbody tr th:only-of-type {\n",
       "        vertical-align: middle;\n",
       "    }\n",
       "\n",
       "    .dataframe tbody tr th {\n",
       "        vertical-align: top;\n",
       "    }\n",
       "\n",
       "    .dataframe thead th {\n",
       "        text-align: right;\n",
       "    }\n",
       "</style>\n",
       "<table border=\"1\" class=\"dataframe\">\n",
       "  <thead>\n",
       "    <tr style=\"text-align: right;\">\n",
       "      <th></th>\n",
       "      <th>Commentaire</th>\n",
       "      <th>Note</th>\n",
       "    </tr>\n",
       "  </thead>\n",
       "  <tbody>\n",
       "    <tr>\n",
       "      <th>0</th>\n",
       "      <td>cert film graphiqu magnif presqu somptueux le ...</td>\n",
       "      <td>0</td>\n",
       "    </tr>\n",
       "    <tr>\n",
       "      <th>1</th>\n",
       "      <td>avatar où film plus surcot planet jam cameron ...</td>\n",
       "      <td>0</td>\n",
       "    </tr>\n",
       "    <tr>\n",
       "      <th>2</th>\n",
       "      <td>en 2009 peu dir avatar le anné entre ceux lais...</td>\n",
       "      <td>0</td>\n",
       "    </tr>\n",
       "    <tr>\n",
       "      <th>3</th>\n",
       "      <td>film impression visuel seul personnag total cr...</td>\n",
       "      <td>0</td>\n",
       "    </tr>\n",
       "    <tr>\n",
       "      <th>4</th>\n",
       "      <td>un film propos voyag pandor planet natur luxur...</td>\n",
       "      <td>0</td>\n",
       "    </tr>\n",
       "    <tr>\n",
       "      <th>...</th>\n",
       "      <td>...</td>\n",
       "      <td>...</td>\n",
       "    </tr>\n",
       "    <tr>\n",
       "      <th>3495</th>\n",
       "      <td>esthet visuel film parf bien longu peut plair ...</td>\n",
       "      <td>1</td>\n",
       "    </tr>\n",
       "    <tr>\n",
       "      <th>3496</th>\n",
       "      <td>le film plus impression pu voir vi certain plu...</td>\n",
       "      <td>1</td>\n",
       "    </tr>\n",
       "    <tr>\n",
       "      <th>3497</th>\n",
       "      <td>tout moiti gen mi 2 étoil rien compr film cert...</td>\n",
       "      <td>1</td>\n",
       "    </tr>\n",
       "    <tr>\n",
       "      <th>3498</th>\n",
       "      <td>avatar premi film 3d vu cinem pen ancré anal c...</td>\n",
       "      <td>1</td>\n",
       "    </tr>\n",
       "    <tr>\n",
       "      <th>3499</th>\n",
       "      <td>encor coup maîtr christoph nolan avec scénario...</td>\n",
       "      <td>1</td>\n",
       "    </tr>\n",
       "  </tbody>\n",
       "</table>\n",
       "<p>3500 rows × 2 columns</p>\n",
       "</div>"
      ],
      "text/plain": [
       "                                            Commentaire  Note\n",
       "0     cert film graphiqu magnif presqu somptueux le ...     0\n",
       "1     avatar où film plus surcot planet jam cameron ...     0\n",
       "2     en 2009 peu dir avatar le anné entre ceux lais...     0\n",
       "3     film impression visuel seul personnag total cr...     0\n",
       "4     un film propos voyag pandor planet natur luxur...     0\n",
       "...                                                 ...   ...\n",
       "3495  esthet visuel film parf bien longu peut plair ...     1\n",
       "3496  le film plus impression pu voir vi certain plu...     1\n",
       "3497  tout moiti gen mi 2 étoil rien compr film cert...     1\n",
       "3498  avatar premi film 3d vu cinem pen ancré anal c...     1\n",
       "3499  encor coup maîtr christoph nolan avec scénario...     1\n",
       "\n",
       "[3500 rows x 2 columns]"
      ]
     },
     "execution_count": 32,
     "metadata": {},
     "output_type": "execute_result"
    }
   ],
   "source": [
    "df_clean = pd.concat([X,df_equal[\"Note\"]],axis=1)\n",
    "df_clean.reindex()"
   ]
  },
  {
   "cell_type": "code",
   "execution_count": 33,
   "metadata": {},
   "outputs": [
    {
     "data": {
      "text/html": [
       "<div>\n",
       "<style scoped>\n",
       "    .dataframe tbody tr th:only-of-type {\n",
       "        vertical-align: middle;\n",
       "    }\n",
       "\n",
       "    .dataframe tbody tr th {\n",
       "        vertical-align: top;\n",
       "    }\n",
       "\n",
       "    .dataframe thead th {\n",
       "        text-align: right;\n",
       "    }\n",
       "</style>\n",
       "<table border=\"1\" class=\"dataframe\">\n",
       "  <thead>\n",
       "    <tr style=\"text-align: right;\">\n",
       "      <th></th>\n",
       "      <th>Commentaire</th>\n",
       "      <th>Note</th>\n",
       "    </tr>\n",
       "  </thead>\n",
       "  <tbody>\n",
       "    <tr>\n",
       "      <th>0</th>\n",
       "      <td>cert film graphiqu magnif presqu somptueux le ...</td>\n",
       "      <td>0</td>\n",
       "    </tr>\n",
       "    <tr>\n",
       "      <th>1</th>\n",
       "      <td>avatar où film plus surcot planet jam cameron ...</td>\n",
       "      <td>0</td>\n",
       "    </tr>\n",
       "    <tr>\n",
       "      <th>2</th>\n",
       "      <td>en 2009 peu dir avatar le anné entre ceux lais...</td>\n",
       "      <td>0</td>\n",
       "    </tr>\n",
       "    <tr>\n",
       "      <th>3</th>\n",
       "      <td>film impression visuel seul personnag total cr...</td>\n",
       "      <td>0</td>\n",
       "    </tr>\n",
       "    <tr>\n",
       "      <th>4</th>\n",
       "      <td>un film propos voyag pandor planet natur luxur...</td>\n",
       "      <td>0</td>\n",
       "    </tr>\n",
       "    <tr>\n",
       "      <th>...</th>\n",
       "      <td>...</td>\n",
       "      <td>...</td>\n",
       "    </tr>\n",
       "    <tr>\n",
       "      <th>3495</th>\n",
       "      <td>esthet visuel film parf bien longu peut plair ...</td>\n",
       "      <td>1</td>\n",
       "    </tr>\n",
       "    <tr>\n",
       "      <th>3496</th>\n",
       "      <td>le film plus impression pu voir vi certain plu...</td>\n",
       "      <td>1</td>\n",
       "    </tr>\n",
       "    <tr>\n",
       "      <th>3497</th>\n",
       "      <td>tout moiti gen mi 2 étoil rien compr film cert...</td>\n",
       "      <td>1</td>\n",
       "    </tr>\n",
       "    <tr>\n",
       "      <th>3498</th>\n",
       "      <td>avatar premi film 3d vu cinem pen ancré anal c...</td>\n",
       "      <td>1</td>\n",
       "    </tr>\n",
       "    <tr>\n",
       "      <th>3499</th>\n",
       "      <td>encor coup maîtr christoph nolan avec scénario...</td>\n",
       "      <td>1</td>\n",
       "    </tr>\n",
       "  </tbody>\n",
       "</table>\n",
       "<p>3500 rows × 2 columns</p>\n",
       "</div>"
      ],
      "text/plain": [
       "                                            Commentaire  Note\n",
       "0     cert film graphiqu magnif presqu somptueux le ...     0\n",
       "1     avatar où film plus surcot planet jam cameron ...     0\n",
       "2     en 2009 peu dir avatar le anné entre ceux lais...     0\n",
       "3     film impression visuel seul personnag total cr...     0\n",
       "4     un film propos voyag pandor planet natur luxur...     0\n",
       "...                                                 ...   ...\n",
       "3495  esthet visuel film parf bien longu peut plair ...     1\n",
       "3496  le film plus impression pu voir vi certain plu...     1\n",
       "3497  tout moiti gen mi 2 étoil rien compr film cert...     1\n",
       "3498  avatar premi film 3d vu cinem pen ancré anal c...     1\n",
       "3499  encor coup maîtr christoph nolan avec scénario...     1\n",
       "\n",
       "[3500 rows x 2 columns]"
      ]
     },
     "execution_count": 33,
     "metadata": {},
     "output_type": "execute_result"
    }
   ],
   "source": [
    "df_clean"
   ]
  },
  {
   "cell_type": "code",
   "execution_count": 34,
   "metadata": {},
   "outputs": [],
   "source": [
    "df_clean = df_clean[df_clean.Commentaire != \"\"]"
   ]
  },
  {
   "cell_type": "code",
   "execution_count": 35,
   "metadata": {},
   "outputs": [
    {
     "data": {
      "text/plain": [
       "Commentaire    0\n",
       "dtype: int64"
      ]
     },
     "execution_count": 35,
     "metadata": {},
     "output_type": "execute_result"
    }
   ],
   "source": [
    "X.isna().sum()"
   ]
  },
  {
   "cell_type": "code",
   "execution_count": 36,
   "metadata": {},
   "outputs": [
    {
     "data": {
      "text/plain": [
       "Commentaire    alor quelqu chos pu bonheur pend trois heur vo...\n",
       "Name: 181, dtype: object"
      ]
     },
     "execution_count": 36,
     "metadata": {},
     "output_type": "execute_result"
    }
   ],
   "source": [
    "X.iloc()[181]"
   ]
  },
  {
   "cell_type": "code",
   "execution_count": 37,
   "metadata": {},
   "outputs": [
    {
     "data": {
      "text/plain": [
       "Commentaire    la beaut imag suff rattrap platitud clich film...\n",
       "Name: 182, dtype: object"
      ]
     },
     "execution_count": 37,
     "metadata": {},
     "output_type": "execute_result"
    }
   ],
   "source": [
    "X.iloc()[182]"
   ]
  },
  {
   "cell_type": "code",
   "execution_count": 62,
   "metadata": {},
   "outputs": [],
   "source": [
    "from sklearn.model_selection import train_test_split\n",
    "X_train, X_test, y_train, y_test = train_test_split(df_clean[\"Commentaire\"], df_clean['Note'], test_size=0.2, random_state=0)\n"
   ]
  },
  {
   "cell_type": "code",
   "execution_count": 39,
   "metadata": {},
   "outputs": [],
   "source": [
    "X_train.columns = [\"Commentaire\"]"
   ]
  },
  {
   "cell_type": "code",
   "execution_count": 40,
   "metadata": {},
   "outputs": [],
   "source": [
    "X_train = pd.DataFrame(X_train)"
   ]
  },
  {
   "cell_type": "code",
   "execution_count": 41,
   "metadata": {},
   "outputs": [
    {
     "data": {
      "text/html": [
       "<div>\n",
       "<style scoped>\n",
       "    .dataframe tbody tr th:only-of-type {\n",
       "        vertical-align: middle;\n",
       "    }\n",
       "\n",
       "    .dataframe tbody tr th {\n",
       "        vertical-align: top;\n",
       "    }\n",
       "\n",
       "    .dataframe thead th {\n",
       "        text-align: right;\n",
       "    }\n",
       "</style>\n",
       "<table border=\"1\" class=\"dataframe\">\n",
       "  <thead>\n",
       "    <tr style=\"text-align: right;\">\n",
       "      <th></th>\n",
       "      <th>Commentaire</th>\n",
       "    </tr>\n",
       "  </thead>\n",
       "  <tbody>\n",
       "    <tr>\n",
       "      <th>2822</th>\n",
       "      <td>film tres réuss bien film long a ennui le réal...</td>\n",
       "    </tr>\n",
       "    <tr>\n",
       "      <th>1329</th>\n",
       "      <td>quel pir film vu amazing pir film sup héros vu...</td>\n",
       "    </tr>\n",
       "    <tr>\n",
       "      <th>1571</th>\n",
       "      <td>étant fan dragon ball allé voir curio moyen mi...</td>\n",
       "    </tr>\n",
       "    <tr>\n",
       "      <th>1635</th>\n",
       "      <td>dragonball evolu 2009il va bientôt avoir align...</td>\n",
       "    </tr>\n",
       "    <tr>\n",
       "      <th>2533</th>\n",
       "      <td>apres 14 an mûr réflexion jam cameron parvenu ...</td>\n",
       "    </tr>\n",
       "    <tr>\n",
       "      <th>...</th>\n",
       "      <td>...</td>\n",
       "    </tr>\n",
       "    <tr>\n",
       "      <th>835</th>\n",
       "      <td>que compliqu le sujet cet plong rêv extrair im...</td>\n",
       "    </tr>\n",
       "    <tr>\n",
       "      <th>3267</th>\n",
       "      <td>cert scénario lu façon global pourr fair weste...</td>\n",
       "    </tr>\n",
       "    <tr>\n",
       "      <th>1656</th>\n",
       "      <td>navet siecl bien là cherch plus scénario inexi...</td>\n",
       "    </tr>\n",
       "    <tr>\n",
       "      <th>2610</th>\n",
       "      <td>premi film 3d voi catastroph ecran noir moment...</td>\n",
       "    </tr>\n",
       "    <tr>\n",
       "      <th>2735</th>\n",
       "      <td>petit révolu cinématograph</td>\n",
       "    </tr>\n",
       "  </tbody>\n",
       "</table>\n",
       "<p>2797 rows × 1 columns</p>\n",
       "</div>"
      ],
      "text/plain": [
       "                                            Commentaire\n",
       "2822  film tres réuss bien film long a ennui le réal...\n",
       "1329  quel pir film vu amazing pir film sup héros vu...\n",
       "1571  étant fan dragon ball allé voir curio moyen mi...\n",
       "1635  dragonball evolu 2009il va bientôt avoir align...\n",
       "2533  apres 14 an mûr réflexion jam cameron parvenu ...\n",
       "...                                                 ...\n",
       "835   que compliqu le sujet cet plong rêv extrair im...\n",
       "3267  cert scénario lu façon global pourr fair weste...\n",
       "1656  navet siecl bien là cherch plus scénario inexi...\n",
       "2610  premi film 3d voi catastroph ecran noir moment...\n",
       "2735                         petit révolu cinématograph\n",
       "\n",
       "[2797 rows x 1 columns]"
      ]
     },
     "execution_count": 41,
     "metadata": {},
     "output_type": "execute_result"
    }
   ],
   "source": [
    "X_train"
   ]
  },
  {
   "cell_type": "code",
   "execution_count": 42,
   "metadata": {},
   "outputs": [
    {
     "data": {
      "text/plain": [
       "2822    1\n",
       "1329    0\n",
       "1571    0\n",
       "1635    0\n",
       "2533    1\n",
       "       ..\n",
       "835     0\n",
       "3267    1\n",
       "1656    0\n",
       "2610    1\n",
       "2735    1\n",
       "Name: Note, Length: 2797, dtype: int64"
      ]
     },
     "execution_count": 42,
     "metadata": {},
     "output_type": "execute_result"
    }
   ],
   "source": [
    "y_train"
   ]
  },
  {
   "cell_type": "code",
   "execution_count": 43,
   "metadata": {},
   "outputs": [],
   "source": [
    "X_train = X_train[X_train.Commentaire != \"\"]"
   ]
  },
  {
   "cell_type": "code",
   "execution_count": 44,
   "metadata": {},
   "outputs": [
    {
     "data": {
      "text/html": [
       "<div>\n",
       "<style scoped>\n",
       "    .dataframe tbody tr th:only-of-type {\n",
       "        vertical-align: middle;\n",
       "    }\n",
       "\n",
       "    .dataframe tbody tr th {\n",
       "        vertical-align: top;\n",
       "    }\n",
       "\n",
       "    .dataframe thead th {\n",
       "        text-align: right;\n",
       "    }\n",
       "</style>\n",
       "<table border=\"1\" class=\"dataframe\">\n",
       "  <thead>\n",
       "    <tr style=\"text-align: right;\">\n",
       "      <th></th>\n",
       "      <th>Commentaire</th>\n",
       "    </tr>\n",
       "  </thead>\n",
       "  <tbody>\n",
       "    <tr>\n",
       "      <th>2822</th>\n",
       "      <td>film tres réuss bien film long a ennui le réal...</td>\n",
       "    </tr>\n",
       "    <tr>\n",
       "      <th>1329</th>\n",
       "      <td>quel pir film vu amazing pir film sup héros vu...</td>\n",
       "    </tr>\n",
       "    <tr>\n",
       "      <th>1571</th>\n",
       "      <td>étant fan dragon ball allé voir curio moyen mi...</td>\n",
       "    </tr>\n",
       "    <tr>\n",
       "      <th>1635</th>\n",
       "      <td>dragonball evolu 2009il va bientôt avoir align...</td>\n",
       "    </tr>\n",
       "    <tr>\n",
       "      <th>2533</th>\n",
       "      <td>apres 14 an mûr réflexion jam cameron parvenu ...</td>\n",
       "    </tr>\n",
       "    <tr>\n",
       "      <th>...</th>\n",
       "      <td>...</td>\n",
       "    </tr>\n",
       "    <tr>\n",
       "      <th>835</th>\n",
       "      <td>que compliqu le sujet cet plong rêv extrair im...</td>\n",
       "    </tr>\n",
       "    <tr>\n",
       "      <th>3267</th>\n",
       "      <td>cert scénario lu façon global pourr fair weste...</td>\n",
       "    </tr>\n",
       "    <tr>\n",
       "      <th>1656</th>\n",
       "      <td>navet siecl bien là cherch plus scénario inexi...</td>\n",
       "    </tr>\n",
       "    <tr>\n",
       "      <th>2610</th>\n",
       "      <td>premi film 3d voi catastroph ecran noir moment...</td>\n",
       "    </tr>\n",
       "    <tr>\n",
       "      <th>2735</th>\n",
       "      <td>petit révolu cinématograph</td>\n",
       "    </tr>\n",
       "  </tbody>\n",
       "</table>\n",
       "<p>2797 rows × 1 columns</p>\n",
       "</div>"
      ],
      "text/plain": [
       "                                            Commentaire\n",
       "2822  film tres réuss bien film long a ennui le réal...\n",
       "1329  quel pir film vu amazing pir film sup héros vu...\n",
       "1571  étant fan dragon ball allé voir curio moyen mi...\n",
       "1635  dragonball evolu 2009il va bientôt avoir align...\n",
       "2533  apres 14 an mûr réflexion jam cameron parvenu ...\n",
       "...                                                 ...\n",
       "835   que compliqu le sujet cet plong rêv extrair im...\n",
       "3267  cert scénario lu façon global pourr fair weste...\n",
       "1656  navet siecl bien là cherch plus scénario inexi...\n",
       "2610  premi film 3d voi catastroph ecran noir moment...\n",
       "2735                         petit révolu cinématograph\n",
       "\n",
       "[2797 rows x 1 columns]"
      ]
     },
     "execution_count": 44,
     "metadata": {},
     "output_type": "execute_result"
    }
   ],
   "source": [
    "X_train.dropna(axis=0)"
   ]
  },
  {
   "cell_type": "code",
   "execution_count": 45,
   "metadata": {},
   "outputs": [
    {
     "data": {
      "text/plain": [
       "['sublim']"
      ]
     },
     "execution_count": 45,
     "metadata": {},
     "output_type": "execute_result"
    }
   ],
   "source": [
    "sentance = [list(tokenize(s, deacc=True, lower=True)) for s in X_train[\"Commentaire\"]]\n",
    "sentance[1567]"
   ]
  },
  {
   "cell_type": "code",
   "execution_count": 46,
   "metadata": {},
   "outputs": [
    {
     "data": {
      "text/plain": [
       "2797"
      ]
     },
     "execution_count": 46,
     "metadata": {},
     "output_type": "execute_result"
    }
   ],
   "source": [
    "model = word2vec.Word2Vec(sentance, window=20,\n",
    "                          min_count=2, workers=1)\n",
    "model.corpus_count"
   ]
  },
  {
   "cell_type": "code",
   "execution_count": 47,
   "metadata": {},
   "outputs": [
    {
     "name": "stdout",
     "output_type": "stream",
     "text": [
      "[-1.86691448e-01  4.34399545e-01  9.66414437e-02  1.14665153e-02\n",
      "  1.21113375e-01 -6.18214488e-01  8.13008696e-02  5.78871250e-01\n",
      " -9.55005065e-02 -1.55531049e-01 -3.58245492e-01 -3.38368475e-01\n",
      " -1.11602679e-01  7.52645209e-02  3.95945273e-02 -2.49093071e-01\n",
      " -6.41263323e-05 -3.41885060e-01 -1.00042373e-01 -6.65746212e-01\n",
      "  9.35085118e-02  7.24982321e-02  2.59432584e-01 -1.08090080e-01\n",
      " -1.91052213e-01 -1.23647302e-02 -2.62624145e-01 -2.62408018e-01\n",
      " -3.90132070e-01  9.61876102e-03  2.85575837e-01  2.15341344e-01\n",
      "  2.48042867e-01 -1.98578522e-01 -1.90773204e-01  5.21801829e-01\n",
      " -9.92470654e-04 -2.69913256e-01 -1.56761855e-01 -5.82042396e-01\n",
      " -6.05957545e-02 -2.76039213e-01  4.64293659e-02  1.52943611e-01\n",
      "  4.08390939e-01 -2.30920985e-01 -2.01372594e-01 -2.38635063e-01\n",
      "  1.86317772e-01  1.11120082e-01  3.05015981e-01 -1.24805801e-01\n",
      " -1.97249670e-02 -4.71481308e-02 -2.17265695e-01  3.21545541e-01\n",
      "  2.39204988e-01  4.61025722e-03 -3.39323193e-01  2.86751717e-01\n",
      "  2.94030935e-01  2.51942184e-02 -1.90768361e-01 -9.54540670e-02\n",
      " -4.01876181e-01  2.72173375e-01  5.65299317e-02  2.75284111e-01\n",
      " -3.18165243e-01  4.06432450e-01 -2.72204310e-01  1.01244852e-01\n",
      "  3.20911676e-01 -4.04056758e-02  4.26981539e-01  3.21109921e-01\n",
      "  1.23398028e-01 -7.81732947e-02 -1.97433636e-01  9.19022262e-02\n",
      " -2.17531309e-01  1.31090716e-01 -3.64761174e-01  2.76071042e-01\n",
      " -1.31375507e-01 -3.79529595e-02  1.22877494e-01  4.03906137e-01\n",
      "  4.59636837e-01  4.02446613e-02  5.80538690e-01  2.01521665e-01\n",
      "  7.95338824e-02 -5.12752831e-02  3.50209326e-01  2.95532793e-01\n",
      "  1.81213513e-01 -4.05055463e-01  1.12534665e-01 -1.16501749e-02]\n"
     ]
    }
   ],
   "source": [
    "try:\n",
    "    print(model.wv['mauvais'])\n",
    "except KeyError as e:\n",
    "    print(e)"
   ]
  },
  {
   "cell_type": "code",
   "execution_count": 48,
   "metadata": {},
   "outputs": [],
   "source": [
    "def get_vect(word, model):\n",
    "    try:\n",
    "        return model.wv[word]\n",
    "    except KeyError:\n",
    "        return np.zeros((model.vector_size,))"
   ]
  },
  {
   "cell_type": "code",
   "execution_count": 49,
   "metadata": {},
   "outputs": [],
   "source": [
    "def sum_vectors(phrase, model):\n",
    "    return sum(get_vect(w, model) for w in phrase)"
   ]
  },
  {
   "cell_type": "code",
   "execution_count": 50,
   "metadata": {},
   "outputs": [],
   "source": [
    "def word2vec_features(X, model):\n",
    "    feats = np.vstack([sum_vectors(p, model) for p in X])\n",
    "    return feats"
   ]
  },
  {
   "cell_type": "code",
   "execution_count": 51,
   "metadata": {},
   "outputs": [
    {
     "data": {
      "text/plain": [
       "(2797, 100)"
      ]
     },
     "execution_count": 51,
     "metadata": {},
     "output_type": "execute_result"
    }
   ],
   "source": [
    "wv_train_feat = word2vec_features(X_train['Commentaire'], model)\n",
    "wv_train_feat.shape"
   ]
  },
  {
   "cell_type": "code",
   "execution_count": 52,
   "metadata": {},
   "outputs": [
    {
     "data": {
      "text/html": [
       "<style>#sk-container-id-1 {color: black;background-color: white;}#sk-container-id-1 pre{padding: 0;}#sk-container-id-1 div.sk-toggleable {background-color: white;}#sk-container-id-1 label.sk-toggleable__label {cursor: pointer;display: block;width: 100%;margin-bottom: 0;padding: 0.3em;box-sizing: border-box;text-align: center;}#sk-container-id-1 label.sk-toggleable__label-arrow:before {content: \"▸\";float: left;margin-right: 0.25em;color: #696969;}#sk-container-id-1 label.sk-toggleable__label-arrow:hover:before {color: black;}#sk-container-id-1 div.sk-estimator:hover label.sk-toggleable__label-arrow:before {color: black;}#sk-container-id-1 div.sk-toggleable__content {max-height: 0;max-width: 0;overflow: hidden;text-align: left;background-color: #f0f8ff;}#sk-container-id-1 div.sk-toggleable__content pre {margin: 0.2em;color: black;border-radius: 0.25em;background-color: #f0f8ff;}#sk-container-id-1 input.sk-toggleable__control:checked~div.sk-toggleable__content {max-height: 200px;max-width: 100%;overflow: auto;}#sk-container-id-1 input.sk-toggleable__control:checked~label.sk-toggleable__label-arrow:before {content: \"▾\";}#sk-container-id-1 div.sk-estimator input.sk-toggleable__control:checked~label.sk-toggleable__label {background-color: #d4ebff;}#sk-container-id-1 div.sk-label input.sk-toggleable__control:checked~label.sk-toggleable__label {background-color: #d4ebff;}#sk-container-id-1 input.sk-hidden--visually {border: 0;clip: rect(1px 1px 1px 1px);clip: rect(1px, 1px, 1px, 1px);height: 1px;margin: -1px;overflow: hidden;padding: 0;position: absolute;width: 1px;}#sk-container-id-1 div.sk-estimator {font-family: monospace;background-color: #f0f8ff;border: 1px dotted black;border-radius: 0.25em;box-sizing: border-box;margin-bottom: 0.5em;}#sk-container-id-1 div.sk-estimator:hover {background-color: #d4ebff;}#sk-container-id-1 div.sk-parallel-item::after {content: \"\";width: 100%;border-bottom: 1px solid gray;flex-grow: 1;}#sk-container-id-1 div.sk-label:hover label.sk-toggleable__label {background-color: #d4ebff;}#sk-container-id-1 div.sk-serial::before {content: \"\";position: absolute;border-left: 1px solid gray;box-sizing: border-box;top: 0;bottom: 0;left: 50%;z-index: 0;}#sk-container-id-1 div.sk-serial {display: flex;flex-direction: column;align-items: center;background-color: white;padding-right: 0.2em;padding-left: 0.2em;position: relative;}#sk-container-id-1 div.sk-item {position: relative;z-index: 1;}#sk-container-id-1 div.sk-parallel {display: flex;align-items: stretch;justify-content: center;background-color: white;position: relative;}#sk-container-id-1 div.sk-item::before, #sk-container-id-1 div.sk-parallel-item::before {content: \"\";position: absolute;border-left: 1px solid gray;box-sizing: border-box;top: 0;bottom: 0;left: 50%;z-index: -1;}#sk-container-id-1 div.sk-parallel-item {display: flex;flex-direction: column;z-index: 1;position: relative;background-color: white;}#sk-container-id-1 div.sk-parallel-item:first-child::after {align-self: flex-end;width: 50%;}#sk-container-id-1 div.sk-parallel-item:last-child::after {align-self: flex-start;width: 50%;}#sk-container-id-1 div.sk-parallel-item:only-child::after {width: 0;}#sk-container-id-1 div.sk-dashed-wrapped {border: 1px dashed gray;margin: 0 0.4em 0.5em 0.4em;box-sizing: border-box;padding-bottom: 0.4em;background-color: white;}#sk-container-id-1 div.sk-label label {font-family: monospace;font-weight: bold;display: inline-block;line-height: 1.2em;}#sk-container-id-1 div.sk-label-container {text-align: center;}#sk-container-id-1 div.sk-container {/* jupyter's `normalize.less` sets `[hidden] { display: none; }` but bootstrap.min.css set `[hidden] { display: none !important; }` so we also need the `!important` here to be able to override the default hidden behavior on the sphinx rendered scikit-learn.org. See: https://github.com/scikit-learn/scikit-learn/issues/21755 */display: inline-block !important;position: relative;}#sk-container-id-1 div.sk-text-repr-fallback {display: none;}</style><div id=\"sk-container-id-1\" class=\"sk-top-container\"><div class=\"sk-text-repr-fallback\"><pre>LogisticRegression(max_iter=1000)</pre><b>In a Jupyter environment, please rerun this cell to show the HTML representation or trust the notebook. <br />On GitHub, the HTML representation is unable to render, please try loading this page with nbviewer.org.</b></div><div class=\"sk-container\" hidden><div class=\"sk-item\"><div class=\"sk-estimator sk-toggleable\"><input class=\"sk-toggleable__control sk-hidden--visually\" id=\"sk-estimator-id-1\" type=\"checkbox\" checked><label for=\"sk-estimator-id-1\" class=\"sk-toggleable__label sk-toggleable__label-arrow\">LogisticRegression</label><div class=\"sk-toggleable__content\"><pre>LogisticRegression(max_iter=1000)</pre></div></div></div></div></div>"
      ],
      "text/plain": [
       "LogisticRegression(max_iter=1000)"
      ]
     },
     "execution_count": 52,
     "metadata": {},
     "output_type": "execute_result"
    }
   ],
   "source": [
    "clfwv = LogisticRegression(solver='lbfgs', max_iter=1000)\n",
    "clfwv.fit(wv_train_feat, y_train)"
   ]
  },
  {
   "cell_type": "code",
   "execution_count": 53,
   "metadata": {},
   "outputs": [
    {
     "data": {
      "text/html": [
       "<style>#sk-container-id-2 {color: black;background-color: white;}#sk-container-id-2 pre{padding: 0;}#sk-container-id-2 div.sk-toggleable {background-color: white;}#sk-container-id-2 label.sk-toggleable__label {cursor: pointer;display: block;width: 100%;margin-bottom: 0;padding: 0.3em;box-sizing: border-box;text-align: center;}#sk-container-id-2 label.sk-toggleable__label-arrow:before {content: \"▸\";float: left;margin-right: 0.25em;color: #696969;}#sk-container-id-2 label.sk-toggleable__label-arrow:hover:before {color: black;}#sk-container-id-2 div.sk-estimator:hover label.sk-toggleable__label-arrow:before {color: black;}#sk-container-id-2 div.sk-toggleable__content {max-height: 0;max-width: 0;overflow: hidden;text-align: left;background-color: #f0f8ff;}#sk-container-id-2 div.sk-toggleable__content pre {margin: 0.2em;color: black;border-radius: 0.25em;background-color: #f0f8ff;}#sk-container-id-2 input.sk-toggleable__control:checked~div.sk-toggleable__content {max-height: 200px;max-width: 100%;overflow: auto;}#sk-container-id-2 input.sk-toggleable__control:checked~label.sk-toggleable__label-arrow:before {content: \"▾\";}#sk-container-id-2 div.sk-estimator input.sk-toggleable__control:checked~label.sk-toggleable__label {background-color: #d4ebff;}#sk-container-id-2 div.sk-label input.sk-toggleable__control:checked~label.sk-toggleable__label {background-color: #d4ebff;}#sk-container-id-2 input.sk-hidden--visually {border: 0;clip: rect(1px 1px 1px 1px);clip: rect(1px, 1px, 1px, 1px);height: 1px;margin: -1px;overflow: hidden;padding: 0;position: absolute;width: 1px;}#sk-container-id-2 div.sk-estimator {font-family: monospace;background-color: #f0f8ff;border: 1px dotted black;border-radius: 0.25em;box-sizing: border-box;margin-bottom: 0.5em;}#sk-container-id-2 div.sk-estimator:hover {background-color: #d4ebff;}#sk-container-id-2 div.sk-parallel-item::after {content: \"\";width: 100%;border-bottom: 1px solid gray;flex-grow: 1;}#sk-container-id-2 div.sk-label:hover label.sk-toggleable__label {background-color: #d4ebff;}#sk-container-id-2 div.sk-serial::before {content: \"\";position: absolute;border-left: 1px solid gray;box-sizing: border-box;top: 0;bottom: 0;left: 50%;z-index: 0;}#sk-container-id-2 div.sk-serial {display: flex;flex-direction: column;align-items: center;background-color: white;padding-right: 0.2em;padding-left: 0.2em;position: relative;}#sk-container-id-2 div.sk-item {position: relative;z-index: 1;}#sk-container-id-2 div.sk-parallel {display: flex;align-items: stretch;justify-content: center;background-color: white;position: relative;}#sk-container-id-2 div.sk-item::before, #sk-container-id-2 div.sk-parallel-item::before {content: \"\";position: absolute;border-left: 1px solid gray;box-sizing: border-box;top: 0;bottom: 0;left: 50%;z-index: -1;}#sk-container-id-2 div.sk-parallel-item {display: flex;flex-direction: column;z-index: 1;position: relative;background-color: white;}#sk-container-id-2 div.sk-parallel-item:first-child::after {align-self: flex-end;width: 50%;}#sk-container-id-2 div.sk-parallel-item:last-child::after {align-self: flex-start;width: 50%;}#sk-container-id-2 div.sk-parallel-item:only-child::after {width: 0;}#sk-container-id-2 div.sk-dashed-wrapped {border: 1px dashed gray;margin: 0 0.4em 0.5em 0.4em;box-sizing: border-box;padding-bottom: 0.4em;background-color: white;}#sk-container-id-2 div.sk-label label {font-family: monospace;font-weight: bold;display: inline-block;line-height: 1.2em;}#sk-container-id-2 div.sk-label-container {text-align: center;}#sk-container-id-2 div.sk-container {/* jupyter's `normalize.less` sets `[hidden] { display: none; }` but bootstrap.min.css set `[hidden] { display: none !important; }` so we also need the `!important` here to be able to override the default hidden behavior on the sphinx rendered scikit-learn.org. See: https://github.com/scikit-learn/scikit-learn/issues/21755 */display: inline-block !important;position: relative;}#sk-container-id-2 div.sk-text-repr-fallback {display: none;}</style><div id=\"sk-container-id-2\" class=\"sk-top-container\"><div class=\"sk-text-repr-fallback\"><pre>LogisticRegression(max_iter=1000)</pre><b>In a Jupyter environment, please rerun this cell to show the HTML representation or trust the notebook. <br />On GitHub, the HTML representation is unable to render, please try loading this page with nbviewer.org.</b></div><div class=\"sk-container\" hidden><div class=\"sk-item\"><div class=\"sk-estimator sk-toggleable\"><input class=\"sk-toggleable__control sk-hidden--visually\" id=\"sk-estimator-id-2\" type=\"checkbox\" checked><label for=\"sk-estimator-id-2\" class=\"sk-toggleable__label sk-toggleable__label-arrow\">LogisticRegression</label><div class=\"sk-toggleable__content\"><pre>LogisticRegression(max_iter=1000)</pre></div></div></div></div></div>"
      ],
      "text/plain": [
       "LogisticRegression(max_iter=1000)"
      ]
     },
     "execution_count": 53,
     "metadata": {},
     "output_type": "execute_result"
    }
   ],
   "source": [
    "LogisticRegression(C=1.0, class_weight=None, dual=False, fit_intercept=True,\n",
    "                   intercept_scaling=1, l1_ratio=None, max_iter=1000,\n",
    "                   multi_class='auto', n_jobs=None, penalty='l2',\n",
    "                   random_state=None, solver='lbfgs', tol=0.0001, verbose=0,\n",
    "                   warm_start=False)"
   ]
  },
  {
   "cell_type": "code",
   "execution_count": 54,
   "metadata": {},
   "outputs": [],
   "source": [
    "wv_test_feat = word2vec_features(X_test, model)"
   ]
  },
  {
   "cell_type": "code",
   "execution_count": 55,
   "metadata": {},
   "outputs": [],
   "source": [
    "test = word2vec_features(\"Ce film est super bien\", model)"
   ]
  },
  {
   "cell_type": "code",
   "execution_count": 56,
   "metadata": {},
   "outputs": [
    {
     "data": {
      "text/plain": [
       "array([1, 1, 1, 1, 1, 1, 1, 1, 1, 1, 1, 1, 1, 1, 1, 1, 1, 1, 1, 1, 1, 1],\n",
       "      dtype=int64)"
      ]
     },
     "execution_count": 56,
     "metadata": {},
     "output_type": "execute_result"
    }
   ],
   "source": [
    "clfwv.predict(test)"
   ]
  },
  {
   "cell_type": "code",
   "execution_count": 57,
   "metadata": {},
   "outputs": [
    {
     "data": {
      "text/plain": [
       "0.5885714285714285"
      ]
     },
     "execution_count": 57,
     "metadata": {},
     "output_type": "execute_result"
    }
   ],
   "source": [
    "clfwv.score(wv_test_feat, y_test)"
   ]
  },
  {
   "cell_type": "code",
   "execution_count": 63,
   "metadata": {},
   "outputs": [],
   "source": [
    "X_train_vec = tfidf.fit_transform(X_train)\n",
    "X_test_vec = tfidf.transform(X_test)"
   ]
  },
  {
   "cell_type": "code",
   "execution_count": 64,
   "metadata": {},
   "outputs": [
    {
     "data": {
      "text/html": [
       "<style>#sk-container-id-3 {color: black;background-color: white;}#sk-container-id-3 pre{padding: 0;}#sk-container-id-3 div.sk-toggleable {background-color: white;}#sk-container-id-3 label.sk-toggleable__label {cursor: pointer;display: block;width: 100%;margin-bottom: 0;padding: 0.3em;box-sizing: border-box;text-align: center;}#sk-container-id-3 label.sk-toggleable__label-arrow:before {content: \"▸\";float: left;margin-right: 0.25em;color: #696969;}#sk-container-id-3 label.sk-toggleable__label-arrow:hover:before {color: black;}#sk-container-id-3 div.sk-estimator:hover label.sk-toggleable__label-arrow:before {color: black;}#sk-container-id-3 div.sk-toggleable__content {max-height: 0;max-width: 0;overflow: hidden;text-align: left;background-color: #f0f8ff;}#sk-container-id-3 div.sk-toggleable__content pre {margin: 0.2em;color: black;border-radius: 0.25em;background-color: #f0f8ff;}#sk-container-id-3 input.sk-toggleable__control:checked~div.sk-toggleable__content {max-height: 200px;max-width: 100%;overflow: auto;}#sk-container-id-3 input.sk-toggleable__control:checked~label.sk-toggleable__label-arrow:before {content: \"▾\";}#sk-container-id-3 div.sk-estimator input.sk-toggleable__control:checked~label.sk-toggleable__label {background-color: #d4ebff;}#sk-container-id-3 div.sk-label input.sk-toggleable__control:checked~label.sk-toggleable__label {background-color: #d4ebff;}#sk-container-id-3 input.sk-hidden--visually {border: 0;clip: rect(1px 1px 1px 1px);clip: rect(1px, 1px, 1px, 1px);height: 1px;margin: -1px;overflow: hidden;padding: 0;position: absolute;width: 1px;}#sk-container-id-3 div.sk-estimator {font-family: monospace;background-color: #f0f8ff;border: 1px dotted black;border-radius: 0.25em;box-sizing: border-box;margin-bottom: 0.5em;}#sk-container-id-3 div.sk-estimator:hover {background-color: #d4ebff;}#sk-container-id-3 div.sk-parallel-item::after {content: \"\";width: 100%;border-bottom: 1px solid gray;flex-grow: 1;}#sk-container-id-3 div.sk-label:hover label.sk-toggleable__label {background-color: #d4ebff;}#sk-container-id-3 div.sk-serial::before {content: \"\";position: absolute;border-left: 1px solid gray;box-sizing: border-box;top: 0;bottom: 0;left: 50%;z-index: 0;}#sk-container-id-3 div.sk-serial {display: flex;flex-direction: column;align-items: center;background-color: white;padding-right: 0.2em;padding-left: 0.2em;position: relative;}#sk-container-id-3 div.sk-item {position: relative;z-index: 1;}#sk-container-id-3 div.sk-parallel {display: flex;align-items: stretch;justify-content: center;background-color: white;position: relative;}#sk-container-id-3 div.sk-item::before, #sk-container-id-3 div.sk-parallel-item::before {content: \"\";position: absolute;border-left: 1px solid gray;box-sizing: border-box;top: 0;bottom: 0;left: 50%;z-index: -1;}#sk-container-id-3 div.sk-parallel-item {display: flex;flex-direction: column;z-index: 1;position: relative;background-color: white;}#sk-container-id-3 div.sk-parallel-item:first-child::after {align-self: flex-end;width: 50%;}#sk-container-id-3 div.sk-parallel-item:last-child::after {align-self: flex-start;width: 50%;}#sk-container-id-3 div.sk-parallel-item:only-child::after {width: 0;}#sk-container-id-3 div.sk-dashed-wrapped {border: 1px dashed gray;margin: 0 0.4em 0.5em 0.4em;box-sizing: border-box;padding-bottom: 0.4em;background-color: white;}#sk-container-id-3 div.sk-label label {font-family: monospace;font-weight: bold;display: inline-block;line-height: 1.2em;}#sk-container-id-3 div.sk-label-container {text-align: center;}#sk-container-id-3 div.sk-container {/* jupyter's `normalize.less` sets `[hidden] { display: none; }` but bootstrap.min.css set `[hidden] { display: none !important; }` so we also need the `!important` here to be able to override the default hidden behavior on the sphinx rendered scikit-learn.org. See: https://github.com/scikit-learn/scikit-learn/issues/21755 */display: inline-block !important;position: relative;}#sk-container-id-3 div.sk-text-repr-fallback {display: none;}</style><div id=\"sk-container-id-3\" class=\"sk-top-container\"><div class=\"sk-text-repr-fallback\"><pre>LGBMClassifier()</pre><b>In a Jupyter environment, please rerun this cell to show the HTML representation or trust the notebook. <br />On GitHub, the HTML representation is unable to render, please try loading this page with nbviewer.org.</b></div><div class=\"sk-container\" hidden><div class=\"sk-item\"><div class=\"sk-estimator sk-toggleable\"><input class=\"sk-toggleable__control sk-hidden--visually\" id=\"sk-estimator-id-3\" type=\"checkbox\" checked><label for=\"sk-estimator-id-3\" class=\"sk-toggleable__label sk-toggleable__label-arrow\">LGBMClassifier</label><div class=\"sk-toggleable__content\"><pre>LGBMClassifier()</pre></div></div></div></div></div>"
      ],
      "text/plain": [
       "LGBMClassifier()"
      ]
     },
     "execution_count": 64,
     "metadata": {},
     "output_type": "execute_result"
    }
   ],
   "source": [
    "classifier.fit(X_train_vec, y_train)"
   ]
  },
  {
   "cell_type": "code",
   "execution_count": 65,
   "metadata": {},
   "outputs": [
    {
     "name": "stdout",
     "output_type": "stream",
     "text": [
      "              precision    recall  f1-score   support\n",
      "\n",
      "           0       0.84      0.76      0.80       352\n",
      "           1       0.78      0.86      0.82       348\n",
      "\n",
      "    accuracy                           0.81       700\n",
      "   macro avg       0.81      0.81      0.81       700\n",
      "weighted avg       0.81      0.81      0.81       700\n",
      "\n",
      "Accuracy of LightGBM Model: 80.85714285714286 %\n"
     ]
    },
    {
     "data": {
      "image/png": "[encoded data removed]",
      "text/plain": [
       "<Figure size 640x480 with 2 Axes>"
      ]
     },
     "metadata": {},
     "output_type": "display_data"
    }
   ],
   "source": [
    "y_pred = classifier.predict(X_test_vec)\n",
    "acc = accuracy_score(y_pred, y_test)\n",
    "report = classification_report(y_test, y_pred)\n",
    "print(report)\n",
    "cm = confusion_matrix(y_pred, y_test)\n",
    "sns.heatmap(cm, annot=True)\n",
    "print(\"Accuracy of LightGBM Model:\", acc*100,\"%\")"
   ]
  },
  {
   "cell_type": "code",
   "execution_count": 96,
   "metadata": {},
   "outputs": [],
   "source": [
    "test = [\"Ce film est très mauvais\"]"
   ]
  },
  {
   "cell_type": "code",
   "execution_count": 124,
   "metadata": {},
   "outputs": [],
   "source": [
    "class clean:\n",
    "    @staticmethod\n",
    "    def nettoyage(sentance):\n",
    "        test_list = []\n",
    "        for i in range(0, len(sentance)):\n",
    "            words = nltk.word_tokenize(str(sentance))\n",
    "            words = [word for word in words if word.isalnum()]\n",
    "            WordSet = []\n",
    "            for word in words:\n",
    "                if word not in set(stopwords.words(\"french\")):\n",
    "                    WordSet.append(word)\n",
    "            WordSetStem = []\n",
    "            for word in WordSet:\n",
    "                WordSetStem.append(stemmer.stem(word))\n",
    "            WordSetLem = []\n",
    "            for word in WordSetStem:\n",
    "                words = WordSetLem.append(lm.lemmatize(word))\n",
    "            message = ' '.join(WordSetLem)\n",
    "            test_list.append(message)\n",
    "            return test_list"
   ]
  },
  {
   "cell_type": "code",
   "execution_count": 98,
   "metadata": {},
   "outputs": [
    {
     "data": {
      "text/plain": [
       "array([0], dtype=int64)"
      ]
     },
     "execution_count": 98,
     "metadata": {},
     "output_type": "execute_result"
    }
   ],
   "source": [
    "test_vec = tfidf.transform(test_list)\n",
    "# test_w2v = word2vec_features(test_list, model)\n",
    "classifier.predict(test_vec)"
   ]
  },
  {
   "cell_type": "code",
   "execution_count": 99,
   "metadata": {},
   "outputs": [],
   "source": [
    "import joblib"
   ]
  },
  {
   "cell_type": "code",
   "execution_count": 128,
   "metadata": {},
   "outputs": [
    {
     "data": {
      "text/plain": [
       "['review_allocine.pkl']"
      ]
     },
     "execution_count": 128,
     "metadata": {},
     "output_type": "execute_result"
    }
   ],
   "source": [
    "joblib.dump(value=[classifier,tfidf], filename='review_allocine.pkl')"
   ]
  },
  {
   "cell_type": "code",
   "execution_count": 126,
   "metadata": {},
   "outputs": [],
   "source": [
    "model_load = joblib.load(filename='review_allocine.pkl')"
   ]
  },
  {
   "cell_type": "code",
   "execution_count": 127,
   "metadata": {},
   "outputs": [
    {
     "data": {
      "text/plain": [
       "[LGBMClassifier(), TfidfVectorizer(ngram_range=(1, 3)), __main__.clean]"
      ]
     },
     "execution_count": 127,
     "metadata": {},
     "output_type": "execute_result"
    }
   ],
   "source": [
    "model_load"
   ]
  },
  {
   "cell_type": "code",
   "execution_count": 117,
   "metadata": {},
   "outputs": [
    {
     "ename": "TypeError",
     "evalue": "list indices must be integers or slices, not function",
     "output_type": "error",
     "traceback": [
      "\u001b[1;31m---------------------------------------------------------------------------\u001b[0m",
      "\u001b[1;31mTypeError\u001b[0m                                 Traceback (most recent call last)",
      "Cell \u001b[1;32mIn [117], line 1\u001b[0m\n\u001b[1;32m----> 1\u001b[0m model_load[nettoyage](\u001b[39m\"\u001b[39m\u001b[39mCeci est un test\u001b[39m\u001b[39m\"\u001b[39m)\n",
      "\u001b[1;31mTypeError\u001b[0m: list indices must be integers or slices, not function"
     ]
    }
   ],
   "source": [
    "model_load[nettoyage](\"Ceci est un test\")"
   ]
  }
 ],
 "metadata": {
  "kernelspec": {
   "display_name": "venv_win",
   "language": "python",
   "name": "python3"
  },
  "language_info": {
   "codemirror_mode": {
    "name": "ipython",
    "version": 3
   },
   "file_extension": ".py",
   "mimetype": "text/x-python",
   "name": "python",
   "nbconvert_exporter": "python",
   "pygments_lexer": "ipython3",
   "version": "3.10.8"
  },
  "orig_nbformat": 4,
  "vscode": {
   "interpreter": {
    "hash": "2a9ee10c8c965ce79509f932407f8eb5bf800abf219529cca35fca9b011161a2"
   }
  }
 },
 "nbformat": 4,
 "nbformat_minor": 2
}
